{
 "cells": [
  {
   "cell_type": "markdown",
   "metadata": {},
   "source": [
    "# Peer Graded Assignment Capstone Project Week 4"
   ]
  },
  {
   "cell_type": "markdown",
   "metadata": {},
   "source": [
    "### Question 1"
   ]
  },
  {
   "cell_type": "markdown",
   "metadata": {},
   "source": [
    "Clearly define a problem or an idea of your choice, where you would need to leverage the Foursquare location data to solve or execute. Remember that data science problems always target an audience and are meant to help a group of stakeholders solve a problem, so make sure that you explicitly describe your audience and why they would care about your problem.\n",
    "\n",
    "This submission will eventually become your Introduction/Business Problem section in your final report. So I recommend that you push the report (having your Introduction/Business Problem section only for now) to your Github repository and submit a link to it."
   ]
  },
  {
   "cell_type": "markdown",
   "metadata": {},
   "source": [
    "## Answer:"
   ]
  },
  {
   "cell_type": "markdown",
   "metadata": {},
   "source": [
    "## Introduction/Business Problem\n",
    "\n",
    "### Problem Statement: Viability of Establishing Quality and Profitable Electronic Store in Lagos State Nigeria"
   ]
  },
  {
   "cell_type": "markdown",
   "metadata": {},
   "source": [
    "The aim of this study is to help people planning to open a new electronic store in Lagos state Nigeria to chose the right location by providing data about the income and population of each neighborhood as well as the competitors already present on the same regions.\n",
    "\n",
    " Lagos state is one of the most renowned commercial cities not only in Nigeria but also in Africa. It is one of the best places one can consider setting up a new business because of the high population density of the city and its commercial nature. Thus in this study, I will explore the whole city of Lagos which is made up of many local government and administrative quarters and determing out of all these regions in Lagos state, the area/region that might be viable enough for the establishment of new electronic store business with the hope of getting a high return and maximizing profit though the business while adding value. This study is hoped to give an insight in taking the best decision as to which place is suitable for setting up this kind of business.\n",
    "\n",
    "#### Target Audience\n",
    " What type of clients or a group of people would be interested in this project?\n",
    " The people/audience that might be interested in this study are as follows:\n",
    "1. Business personnel who wants to invest or establish electronic stores. This analysis will be a comprehensive guide to start or expand electronic stores considering the commercial nature of lagos and its population density.\n",
    "2. Entrepreneurs who love to have their own electronic store as a business enterprise. This analysis will give a clue, how beneficial it is to open electronic stores and some of the pros and cons associated with the business considering the geograpical region of Lagos state.\n",
    "3. Researchers/Marketers who want to learn more about the geographical influence of electronic business in Lagos state Nigeria can also find this analysis very useful.\n",
    " 4.Software Developers and  Data Scientists, who want to learn on the use of four square API to solve location problems, implement some of the most used Exploratory Data Analysis techniques to obtain necessary data, analyze it, and, finally be able to tell a story out of it."
   ]
  },
  {
   "cell_type": "markdown",
   "metadata": {},
   "source": [
    "## Question 2"
   ]
  },
  {
   "cell_type": "markdown",
   "metadata": {},
   "source": [
    "Describe the data that you will be using to solve the problem or execute your idea. Remember that you will need to use the Foursquare location data to solve the problem or execute your idea. You can absolutely use other datasets in combination with the Foursquare location data. So make sure that you provide adequate explanation and discussion, with examples, of the data that you will be using, even if it is only Foursquare location data.\n",
    "\n",
    "This submission will eventually become your Data section in your final report. So I recommend that you push the report (having your Data section) to your Github repository and submit a link to it."
   ]
  },
  {
   "cell_type": "markdown",
   "metadata": {},
   "source": [
    "### ANSWER"
   ]
  },
  {
   "cell_type": "markdown",
   "metadata": {},
   "source": [
    "### Data Sourcing and Scrapping\n",
    "\n",
    "To be able to analyse and proffer solution to the stated problem statement and also provide the stakeholders/target audience the necessary information needed for the establishment of electronic store in Lagos state Nigeria, I'll be combining Lagos state local governments datasheet that contains Population, Area, Administrative Capital and Postal  Code with Lagos state local government postal codes and coordinates data and also Foursquare API to collect competitors on the same neighborhoods.\n",
    "\n",
    "I first make use of Lagos state local government datasheet page from Wikipedia to scrap the table to create a data-frame. For this, I’ve used requests and Beautifulsoup4 library to scrape the data from the wikipedia page https://en.wikipedia.org/wiki/Lagos_State. I also got the other needed data of lagos state from https://nigeria.opendataforafrica.org/zvbmbhe/information-and-communication?states=1000250-lagos by downloading a csv file. I also got the geographical coordinates of the 20 local government areas in Lagos state through google search and compliled them in a csv file. Also, I would make use of the Foursquare API to collect data about each of the neighbourhoods and even get the competitors in the same electronic business in some of the areas of Lagos state. With the Foursquare API, I will be querying the number of venues in each category in a 500m radius around each area. This radius will be chosen to ensure I get nearby competitors that might compete agressively with the business."
   ]
  }
 ],
 "metadata": {
  "kernelspec": {
   "display_name": "Python 3",
   "language": "python",
   "name": "python3"
  },
  "language_info": {
   "codemirror_mode": {
    "name": "ipython",
    "version": 3
   },
   "file_extension": ".py",
   "mimetype": "text/x-python",
   "name": "python",
   "nbconvert_exporter": "python",
   "pygments_lexer": "ipython3",
   "version": "3.7.4"
  }
 },
 "nbformat": 4,
 "nbformat_minor": 2
}
